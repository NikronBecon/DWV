{
 "cells": [
  {
   "cell_type": "code",
   "execution_count": 1,
   "metadata": {},
   "outputs": [
    {
     "name": "stdout",
     "output_type": "stream",
     "text": [
      "JSON file created successfully\n"
     ]
    }
   ],
   "source": [
    "import json\n",
    "import os\n",
    "import sqlite3\n",
    "\n",
    "def export_to_json():\n",
    "\n",
    "    conn = sqlite3.connect('movies.db')\n",
    "    cursor = conn.cursor()\n",
    "    \n",
    "    # Get all films\n",
    "    cursor.execute('SELECT * FROM films')\n",
    "    \n",
    "    # Get column names\n",
    "    columns = [description[0] for description in cursor.description]\n",
    "    \n",
    "    # Fetch all rows and create list of dictionaries\n",
    "    results = []\n",
    "    for row in cursor.fetchall():\n",
    "        results.append(dict(zip(columns, row)))\n",
    "    \n",
    "    # Write to JSON file\n",
    "    with open('movies.json', 'w', encoding='utf-8') as f:\n",
    "        json.dump(results, f, ensure_ascii=False, indent=2)\n",
    "    \n",
    "    conn.close()\n",
    "    print(\"JSON file created successfully\")\n",
    "\n",
    "export_to_json()"
   ]
  }
 ],
 "metadata": {
  "kernelspec": {
   "display_name": "venv",
   "language": "python",
   "name": "python3"
  },
  "language_info": {
   "codemirror_mode": {
    "name": "ipython",
    "version": 3
   },
   "file_extension": ".py",
   "mimetype": "text/x-python",
   "name": "python",
   "nbconvert_exporter": "python",
   "pygments_lexer": "ipython3",
   "version": "3.13.1"
  }
 },
 "nbformat": 4,
 "nbformat_minor": 2
}
