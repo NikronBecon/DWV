{
 "cells": [
  {
   "cell_type": "code",
   "execution_count": 11,
   "metadata": {},
   "outputs": [],
   "source": [
    "import requests\n",
    "from bs4 import BeautifulSoup\n",
    "import pandas as pd\n",
    "import sqlite3\n",
    "import json\n"
   ]
  },
  {
   "cell_type": "code",
   "execution_count": 12,
   "metadata": {},
   "outputs": [],
   "source": [
    "url = 'https://en.wikipedia.org/wiki/List_of_highest-grossing_films'\n",
    "response = requests.get(url)\n",
    "soup = BeautifulSoup(response.text, 'html.parser')"
   ]
  },
  {
   "cell_type": "code",
   "execution_count": 13,
   "metadata": {},
   "outputs": [],
   "source": [
    "table = soup.find_all('table', class_='wikitable')[0]"
   ]
  },
  {
   "cell_type": "code",
   "execution_count": 14,
   "metadata": {},
   "outputs": [],
   "source": [
    "films_html = table.find_all('tr')[1:]"
   ]
  },
  {
   "cell_type": "code",
   "execution_count": 15,
   "metadata": {},
   "outputs": [],
   "source": [
    "films = []\n",
    "for film_html in films_html:\n",
    "    attributes = film_html.find_all('td')\n",
    "    film_title = film_html.find(\"th\").find(\"a\").text.strip()\n",
    "    film_ref = film_html.find(\"th\").find(\"a\")[\"href\"]\n",
    "    year = attributes[3].text.strip()\n",
    "    revenue_str = attributes[2].text.strip()\n",
    "    revenue = [ch for ch in revenue_str if ch.isdigit()]\n",
    "    revenue = int(\"\".join(revenue))\n",
    "    films.append([film_title, year, revenue, film_ref])"
   ]
  },
  {
   "cell_type": "code",
   "execution_count": 16,
   "metadata": {},
   "outputs": [],
   "source": [
    "def get_country_and_director(href):\n",
    "    response = requests.get(\"https://en.wikipedia.org\" + href)\n",
    "    soup = BeautifulSoup(response.text, \"html.parser\")\n",
    "    data = soup.select_one(\"table\", class_=\"infobox\")\n",
    "    country = data.find(\"th\", string=\"Country\")\n",
    "    if not country:\n",
    "        country_td = data.find(\"th\", string=\"Countries\").find_next(\"td\")\n",
    "        ul = country_td.find(\"ul\")\n",
    "        country = (\", \".join([li.text.strip() for li in ul.find_all(\"li\")]) if ul else country_td.text.strip()\n",
    "        )\n",
    "    else:\n",
    "        country = country.find_next(\"td\").text.strip()\n",
    "\n",
    "    director_td = data.find(\"th\", string=\"Directed by\").find_next(\"td\")\n",
    "    directors = director_td.find(\"ul\")\n",
    "    director = (\", \".join([li.text.strip() for li in directors.find_all(\"li\")]) if directors else director_td.text.strip()\n",
    "    )\n",
    "    return country, director"
   ]
  },
  {
   "cell_type": "code",
   "execution_count": 17,
   "metadata": {},
   "outputs": [
    {
     "name": "stdout",
     "output_type": "stream",
     "text": [
      "Error getting country and director for Ne Zha 2: 'NoneType' object has no attribute 'find_next'\n"
     ]
    }
   ],
   "source": [
    "cleaned_films = []\n",
    "for i, film in enumerate(films):\n",
    "    cleaned_film = film[:3]\n",
    "    try:\n",
    "        \n",
    "        country, director = get_country_and_director(film[3])\n",
    "        cleaned_films.append(cleaned_film + [country, director])\n",
    "    except Exception as e:\n",
    "        print(f\"Error getting country and director for {film[0]}: {e}\")\n",
    "        cleaned_films.append(cleaned_film + [\"N/A\", \"N/A\"])\n",
    "        "
   ]
  },
  {
   "cell_type": "code",
   "execution_count": 18,
   "metadata": {},
   "outputs": [],
   "source": [
    "# Create connection to database\n",
    "\n",
    "\n",
    "conn = sqlite3.connect('movies.db')\n",
    "cursor = conn.cursor()\n",
    "\n",
    "# Create the films table\n",
    "cursor.execute('''\n",
    "CREATE TABLE IF NOT EXISTS films (\n",
    "    id INTEGER PRIMARY KEY AUTOINCREMENT,\n",
    "    title TEXT NOT NULL,\n",
    "    release_year INTEGER,\n",
    "    director TEXT,\n",
    "    box_office REAL,\n",
    "    country TEXT\n",
    ")\n",
    "''')\n",
    "\n",
    "# Insert data from cleaned_films\n",
    "# cleaned_films structure is [title, year, revenue, country, director]\n",
    "for film in cleaned_films:\n",
    "    cursor.execute('''\n",
    "    INSERT INTO films (title, release_year, box_office, country, director)\n",
    "    VALUES (?, ?, ?, ?, ?)\n",
    "    ''', (film[0], int(film[1]), film[2], film[3], film[4]))\n",
    "\n",
    "# Commit changes and close connection\n",
    "conn.commit()\n",
    "conn.close()"
   ]
  }
 ],
 "metadata": {
  "kernelspec": {
   "display_name": "venv",
   "language": "python",
   "name": "python3"
  },
  "language_info": {
   "codemirror_mode": {
    "name": "ipython",
    "version": 3
   },
   "file_extension": ".py",
   "mimetype": "text/x-python",
   "name": "python",
   "nbconvert_exporter": "python",
   "pygments_lexer": "ipython3",
   "version": "3.13.1"
  }
 },
 "nbformat": 4,
 "nbformat_minor": 2
}
